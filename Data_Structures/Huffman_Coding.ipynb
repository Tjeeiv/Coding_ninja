{
  "nbformat": 4,
  "nbformat_minor": 0,
  "metadata": {
    "colab": {
      "provenance": [],
      "authorship_tag": "ABX9TyNuJPKdCTrFj+qkIGusg5lF",
      "include_colab_link": true
    },
    "kernelspec": {
      "name": "python3",
      "display_name": "Python 3"
    },
    "language_info": {
      "name": "python"
    }
  },
  "cells": [
    {
      "cell_type": "markdown",
      "metadata": {
        "id": "view-in-github",
        "colab_type": "text"
      },
      "source": [
        "<a href=\"https://colab.research.google.com/github/Tjeeiv/Coding_ninja/blob/main/Data_Structures/Huffman_Coding.ipynb\" target=\"_parent\"><img src=\"https://colab.research.google.com/assets/colab-badge.svg\" alt=\"Open In Colab\"/></a>"
      ]
    },
    {
      "cell_type": "markdown",
      "source": [
        "Huffman Coding.\n",
        "Text compression algorithm.(variable length code)\n",
        "For Example: file contain many words and we want to compress the file or like reduce the space.\n",
        "logic - according to character frequency change the code for each character.\n",
        "Character having high frequency will have low space.\n",
        "Character having low frequency can have more space.\n"
      ],
      "metadata": {
        "id": "TNl-fDq4K2cu"
      }
    },
    {
      "cell_type": "code",
      "source": [],
      "metadata": {
        "id": "YaQeo46iKymF"
      },
      "execution_count": null,
      "outputs": []
    }
  ]
}