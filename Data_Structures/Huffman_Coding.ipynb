'''Huffman Coding.
Text compression algorithm.(variable length code)
For Example: file contain many words and we want to compress the file or like reduce the space.
logic - according to character frequency change the code for each character.
Character having high frequency will have low space.
Character having low frequency can have more space. '''
