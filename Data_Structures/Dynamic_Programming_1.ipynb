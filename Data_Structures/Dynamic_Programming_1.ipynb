{
  "nbformat": 4,
  "nbformat_minor": 0,
  "metadata": {
    "colab": {
      "provenance": [],
      "authorship_tag": "ABX9TyPYp+WEMTr0fET5pDK4zyBN",
      "include_colab_link": true
    },
    "kernelspec": {
      "name": "python3",
      "display_name": "Python 3"
    },
    "language_info": {
      "name": "python"
    }
  },
  "cells": [
    {
      "cell_type": "markdown",
      "metadata": {
        "id": "view-in-github",
        "colab_type": "text"
      },
      "source": [
        "<a href=\"https://colab.research.google.com/github/Tjeeiv/Coding_ninja/blob/main/Data_Structures/Dynamic_Programming_1.ipynb\" target=\"_parent\"><img src=\"https://colab.research.google.com/assets/colab-badge.svg\" alt=\"Open In Colab\"/></a>"
      ]
    },
    {
      "cell_type": "markdown",
      "source": [
        "Dynamic Programming 1:\n",
        "vid-1:\n",
        "1.Optimal sub structures - recrusion program will have optimal substructures , for example. in fib(n) will depend on fib(n-1)+fib(n-2).\n",
        "problem depend on sub problems.\n",
        "2.Overlapping Problem - consider above example - some sub fib(n-i) will repeat those repeating problems are called Overlapping problems.\n",
        "\n",
        "DP1 helps to overcome the Overlapping Problems . it will achieve this by storing problems result.\n",
        "\n",
        "Not all recrusion will have overlapping subproblems.\n",
        "Recrusion will have optimal Substructures."
      ],
      "metadata": {
        "id": "ULDzfC09RAWB"
      }
    },
    {
      "cell_type": "code",
      "source": [
        "#simple fib rec\n",
        "def fib(n):\n",
        "  if n==0 or n==1:\n",
        "    return n\n",
        "  ans1 = fib(n-1)\n",
        "  ans2 = fib(n-2)\n",
        "  myans = ans1+ans2\n",
        "  return  myans\n",
        "\n",
        "n= int(input())\n",
        "ans = fib(n)\n",
        "print(ans)\n"
      ],
      "metadata": {
        "colab": {
          "base_uri": "https://localhost:8080/"
        },
        "id": "h99gA_USvPfw",
        "outputId": "dcbbc64f-2818-4f29-efb1-3bfeca7efd77"
      },
      "execution_count": 2,
      "outputs": [
        {
          "output_type": "stream",
          "name": "stdout",
          "text": [
            "7\n",
            "13\n"
          ]
        }
      ]
    },
    {
      "cell_type": "code",
      "source": [
        "#Memoization\n",
        "def fib(n,dp):\n",
        "  if n==0 or n==1:\n",
        "    return n\n",
        "  if dp[n-1]==-1:\n",
        "    ans1 = fib(n-1,dp)\n",
        "    dp[n-1] = ans1\n",
        "  else:\n",
        "    ans1 = dp[n-1]\n",
        "  if dp[n-2]==-1:\n",
        "    ans2 = fib(n-2,dp)\n",
        "    dp[n-2] = ans2\n",
        "  else:\n",
        "    ans2 = dp[n-2]\n",
        "  myans = ans1+ans2\n",
        "  return  myans\n",
        "\n",
        "n= int(input())\n",
        "dp = [-1 for i in range(n+1)]\n",
        "ans = fib(n,dp)\n",
        "print(dp)\n",
        "print(ans)"
      ],
      "metadata": {
        "colab": {
          "base_uri": "https://localhost:8080/"
        },
        "id": "YhOpwHy6Xjv2",
        "outputId": "cb2d3330-2e55-493d-e74c-609d6c826ad8"
      },
      "execution_count": 7,
      "outputs": [
        {
          "output_type": "stream",
          "name": "stdout",
          "text": [
            "7\n",
            "[0, 1, 1, 2, 3, 5, 8, -1]\n",
            "13\n"
          ]
        }
      ]
    },
    {
      "cell_type": "markdown",
      "source": [
        "DP-1\n",
        "Vid-3\n",
        "Time complexity of memoitzation:\n",
        "Recursion time complexity is O(2^n)\n",
        "recursion with dp time complexity is O(n)\n",
        "\n",
        "space is o(n)  to O(2n) because of using array"
      ],
      "metadata": {
        "id": "FXZmuPjPgq_1"
      }
    }
  ]
}