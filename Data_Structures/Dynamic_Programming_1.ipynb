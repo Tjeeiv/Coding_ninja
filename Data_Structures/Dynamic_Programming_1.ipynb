{
  "nbformat": 4,
  "nbformat_minor": 0,
  "metadata": {
    "colab": {
      "provenance": [],
      "authorship_tag": "ABX9TyPuVaVJSgDYqNkWmSVAFzCe",
      "include_colab_link": true
    },
    "kernelspec": {
      "name": "python3",
      "display_name": "Python 3"
    },
    "language_info": {
      "name": "python"
    }
  },
  "cells": [
    {
      "cell_type": "markdown",
      "metadata": {
        "id": "view-in-github",
        "colab_type": "text"
      },
      "source": [
        "<a href=\"https://colab.research.google.com/github/Tjeeiv/Coding_ninja/blob/main/Data_Structures/Dynamic_Programming_1.ipynb\" target=\"_parent\"><img src=\"https://colab.research.google.com/assets/colab-badge.svg\" alt=\"Open In Colab\"/></a>"
      ]
    },
    {
      "cell_type": "markdown",
      "source": [
        "Dynamic Programming 1:\n",
        "vid-1:\n",
        "1.Optimal sub structures - recrusion program will have optimal substructures , for example. in fib(n) will depend on fib(n-1)+fib(n-2).\n",
        "problem depend on sub problems.\n",
        "2.Overlapping Problem - consider above example - some sub fib(n-i) will repeat those repeating problems are called Overlapping problems.\n",
        "\n",
        "DP1 helps to overcome the Overlapping Problems . it will achieve this by storing problems result."
      ],
      "metadata": {
        "id": "ULDzfC09RAWB"
      }
    }
  ]
}